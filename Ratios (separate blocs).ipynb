{
 "cells": [
  {
   "cell_type": "code",
   "execution_count": 11,
   "id": "6fe199bc-21ec-4709-934a-5cae2d07fc7b",
   "metadata": {},
   "outputs": [],
   "source": [
    "import numpy as np\n",
    "import pandas as pd\n",
    "import matplotlib.pyplot as plt\n",
    "import seaborn as sns"
   ]
  },
  {
   "cell_type": "code",
   "execution_count": 1,
   "id": "49bbca00-65ec-43b4-a86f-d2afb12b65d0",
   "metadata": {},
   "outputs": [
    {
     "data": {
      "text/html": [
       "<div>\n",
       "<style scoped>\n",
       "    .dataframe tbody tr th:only-of-type {\n",
       "        vertical-align: middle;\n",
       "    }\n",
       "\n",
       "    .dataframe tbody tr th {\n",
       "        vertical-align: top;\n",
       "    }\n",
       "\n",
       "    .dataframe thead th {\n",
       "        text-align: right;\n",
       "    }\n",
       "</style>\n",
       "<table border=\"1\" class=\"dataframe\">\n",
       "  <thead>\n",
       "    <tr style=\"text-align: right;\">\n",
       "      <th></th>\n",
       "      <th>Data on HUL</th>\n",
       "      <th>Unnamed: 1</th>\n",
       "      <th>Unnamed: 2</th>\n",
       "    </tr>\n",
       "  </thead>\n",
       "  <tbody>\n",
       "    <tr>\n",
       "      <th>0</th>\n",
       "      <td>Balance Sheet</td>\n",
       "      <td>NaN</td>\n",
       "      <td>NaN</td>\n",
       "    </tr>\n",
       "    <tr>\n",
       "      <th>1</th>\n",
       "      <td>Particulars ( In Crores)</td>\n",
       "      <td>As at 31st March, 2024</td>\n",
       "      <td>As at 31st March, 2023</td>\n",
       "    </tr>\n",
       "    <tr>\n",
       "      <th>2</th>\n",
       "      <td>ASSETS</td>\n",
       "      <td>NaN</td>\n",
       "      <td>NaN</td>\n",
       "    </tr>\n",
       "    <tr>\n",
       "      <th>3</th>\n",
       "      <td>Non-current assets</td>\n",
       "      <td>NaN</td>\n",
       "      <td>NaN</td>\n",
       "    </tr>\n",
       "    <tr>\n",
       "      <th>4</th>\n",
       "      <td>Property, plant and equipment</td>\n",
       "      <td>7178</td>\n",
       "      <td>6189</td>\n",
       "    </tr>\n",
       "  </tbody>\n",
       "</table>\n",
       "</div>"
      ],
      "text/plain": [
       "                     Data on HUL              Unnamed: 1  \\\n",
       "0                  Balance Sheet                     NaN   \n",
       "1       Particulars ( In Crores)  As at 31st March, 2024   \n",
       "2                         ASSETS                     NaN   \n",
       "3             Non-current assets                     NaN   \n",
       "4  Property, plant and equipment                    7178   \n",
       "\n",
       "               Unnamed: 2  \n",
       "0                     NaN  \n",
       "1  As at 31st March, 2023  \n",
       "2                     NaN  \n",
       "3                     NaN  \n",
       "4                    6189  "
      ]
     },
     "execution_count": 1,
     "metadata": {},
     "output_type": "execute_result"
    }
   ],
   "source": [
    "import pandas as pd\n",
    "df = pd.read_excel(\"Hindustan Unilever.xlsx\", sheet_name=0)\n",
    "df.to_csv(\"Hindustan_Unilever.csv\", index=False)\n",
    "df.columns\n",
    "df.head()"
   ]
  },
  {
   "cell_type": "code",
   "execution_count": 47,
   "id": "f12b1b97-8a19-4a43-880b-878f426bb89d",
   "metadata": {},
   "outputs": [
    {
     "name": "stdout",
     "output_type": "stream",
     "text": [
      "                                          Data on HUL              Unnamed: 1\n",
      "0                                       Balance Sheet                     NaN\n",
      "1                            Particulars ( In Crores)  As at 31st March, 2024\n",
      "2                                              ASSETS                     NaN\n",
      "3                                  Non-current assets                     NaN\n",
      "4                       Property, plant and equipment                    7178\n",
      "5                            Capital work-in-progress                     915\n",
      "6                                            Goodwill                   17316\n",
      "7                             Other intangible assets                   27885\n",
      "8                                    Financial assets                     NaN\n",
      "9   Investments in subsidiaries, associates, and j...                     981\n",
      "10                                        Investments                       2\n",
      "11                                              Loans                     392\n",
      "12                             Other financial assets                     714\n",
      "13                       Non-current tax assets (net)                    1118\n",
      "14                           Other non-current assets                     279\n",
      "15                     Total - Non-current assets (A)                   56780\n",
      "16                                     Current assets                     NaN\n",
      "17                                        Inventories                    3812\n",
      "18                                   Financial assets                     NaN\n",
      "19                                        Investments                    4510\n",
      "20                                  Trade receivables                    2690\n",
      "21                          Cash and cash equivalents                     609\n",
      "22  Bank balances other than cash and cash equival...                    6607\n",
      "23                                              Loans                      37\n",
      "24                             Other financial assets                    1416\n",
      "25                               Other current assets                     603\n",
      "26                               Assets held for sale                      12\n",
      "27                         Total - Current assets (B)                   20296\n",
      "28                           TOTAL ASSETS [(A) + (B)]                   77076\n",
      "29                                             Equity                     NaN\n",
      "30                               Equity share capital                     235\n",
      "31                                       Other equity                   50738\n",
      "32                                 Total - Equity (A)                   50973\n",
      "33                                        Liabilities                     NaN\n",
      "34                            Non-current liabilities                     NaN\n",
      "35                                  Lease liabilities                    1034\n",
      "36                        Other financial liabilities                     430\n",
      "37                                         Provisions                    1551\n",
      "38                     Deferred tax liabilities (net)                    6454\n",
      "39                  Non-current tax liabilities (net)                    4231\n",
      "40                Total - Non-current liabilities (B)                   13700\n",
      "41                                Current liabilities                     NaN\n",
      "42                                  Lease liabilities                     340\n",
      "43                                     Trade payables                     NaN\n",
      "44        Total outstanding dues of micro enterprises                     222\n",
      "45  Total outstanding dues of creditors other than...                    9926\n",
      "46                        Other financial liabilities                     797\n",
      "47                          Other current liabilities                     789\n",
      "48                                         Provisions                     329\n",
      "49                    Total - Current liabilities (C)                   12403\n",
      "50     TOTAL EQUITY AND LIABILITIES [(A) + (B) + (C)]                   77076\n"
     ]
    }
   ],
   "source": [
    "import pandas as pd\n",
    "\n",
    "HUL_df = pd.read_excel('Hindustan Unilever.xlsx', usecols=\"A:B\")\n",
    "Balance_Sheet = HUL_df.head(51)\n",
    "print(Balance_Sheet)"
   ]
  },
  {
   "cell_type": "code",
   "execution_count": 37,
   "id": "828ee30e-cafa-41e0-ad9b-aa864a72a6e1",
   "metadata": {},
   "outputs": [
    {
     "data": {
      "text/plain": [
       "Index(['Data on HUL', 'Unnamed: 1'], dtype='object')"
      ]
     },
     "execution_count": 37,
     "metadata": {},
     "output_type": "execute_result"
    }
   ],
   "source": [
    "Balance_Sheet.columns"
   ]
  },
  {
   "cell_type": "code",
   "execution_count": 51,
   "id": "0e0371c6-7561-46a1-a8ca-95cda1cf32e0",
   "metadata": {},
   "outputs": [
    {
     "name": "stdout",
     "output_type": "stream",
     "text": [
      "20296\n"
     ]
    }
   ],
   "source": [
    "current_assets = Balance_Sheet.loc[\n",
    "    Balance_Sheet.iloc[:, 0].str.contains(\"Total - Current assets\", na=False, case=False), \n",
    "    Balance_Sheet.columns[1]\n",
    "].values[0]\n",
    "print(current_assets)"
   ]
  },
  {
   "cell_type": "code",
   "execution_count": 53,
   "id": "57774b04-5c2e-460a-aa26-84a3b2ce01dd",
   "metadata": {},
   "outputs": [
    {
     "name": "stdout",
     "output_type": "stream",
     "text": [
      "20296\n"
     ]
    }
   ],
   "source": [
    "current_assets = Balance_Sheet[Balance_Sheet.iloc[:, 0] == \"Total - Current assets (B)\"].iloc[0, 1]\n",
    "print(current_assets)"
   ]
  },
  {
   "cell_type": "code",
   "execution_count": 55,
   "id": "83d3ba76-c558-4692-b904-b4b8e43eb155",
   "metadata": {},
   "outputs": [
    {
     "name": "stdout",
     "output_type": "stream",
     "text": [
      "Current Assets: 20296.0\n"
     ]
    }
   ],
   "source": [
    "\n",
    "current_assets_row = Balance_Sheet[Balance_Sheet.iloc[:, 0].str.contains(\"Total - Current assets\", na=False, case=False)]\n",
    "\n",
    "current_assets = float(current_assets_row.iloc[0, 1])\n",
    "\n",
    "print(\"Current Assets:\", current_assets)\n"
   ]
  },
  {
   "cell_type": "code",
   "execution_count": 57,
   "id": "d7cea8fb-41cf-4400-95b0-aa78a7770d57",
   "metadata": {},
   "outputs": [
    {
     "name": "stdout",
     "output_type": "stream",
     "text": [
      "Current Liabilities: 12403.0\n"
     ]
    }
   ],
   "source": [
    "\n",
    "current_liabilities_row = Balance_Sheet[Balance_Sheet.iloc[:, 0].str.contains(\"Total - Current liabilities\", na=False, case=False)]\n",
    "\n",
    "current_liabilities = float(current_liabilities_row.iloc[0, 1])\n",
    "\n",
    "print(\"Current Liabilities:\", current_liabilities)\n"
   ]
  },
  {
   "cell_type": "code",
   "execution_count": 59,
   "id": "3ab50a64-4681-421d-baff-78575439839b",
   "metadata": {},
   "outputs": [
    {
     "name": "stdout",
     "output_type": "stream",
     "text": [
      "1.64\n",
      "The current ratio of HUL which is 1.64 appears to be good which means that the current assets of HUL far outwigh the current liabilities and it indicated that HUL is in a very good liquidity position\n"
     ]
    }
   ],
   "source": [
    "current_ratio_HUL = current_assets / current_liabilities\n",
    "print(f\"{current_ratio_HUL:.2f}\")\n",
    "print(f\"The current ratio of HUL which is {current_ratio_HUL:.2f} appears to be good which means that the current assets of HUL far outwigh the current liabilities and it indicated that HUL is in a very good liquidity position\")"
   ]
  },
  {
   "cell_type": "code",
   "execution_count": 61,
   "id": "e387fe82-f9b9-47ff-b3e2-4759834cbc7b",
   "metadata": {},
   "outputs": [
    {
     "name": "stdout",
     "output_type": "stream",
     "text": [
      "3812.0\n",
      "16484.0\n",
      "1.33\n",
      "The quick ratio of HUL is 1.33 which is very good as it removes inventory from the calculation as it views the liquidity aspect from a much quicker perspective\n"
     ]
    }
   ],
   "source": [
    "import pandas as pd\n",
    "Balance_Sheet = HUL_df = pd.read_excel('Hindustan Unilever.xlsx', usecols=\"A:B\") # for printing only the first two columns\n",
    "\n",
    "Balance_Sheet = HUL_df.head(51)\n",
    "\n",
    "inventories_row = Balance_Sheet[Balance_Sheet.iloc[:,0].str.contains('Inventories',na=False,case=False)]\n",
    "\n",
    "inventories = float(inventories_row.iloc[0,1])\n",
    "\n",
    "print(inventories)\n",
    "\n",
    "Quick_Assets = current_assets - inventories\n",
    "\n",
    "print(Quick_Assets)\n",
    "\n",
    "Quick_Ratio  = Quick_Assets/current_liabilities\n",
    "print(f\"{Quick_Ratio:.2f}\")\n",
    "\n",
    "print(f\"The quick ratio of HUL is 1.33 which is very good as it removes inventory from the calculation as it views the liquidity aspect from a much quicker perspective\")"
   ]
  },
  {
   "cell_type": "code",
   "execution_count": 1,
   "id": "3e14896b-217a-4bec-9367-13245a4e3a45",
   "metadata": {},
   "outputs": [
    {
     "name": "stdout",
     "output_type": "stream",
     "text": [
      "Missing values before filling:\n",
      " Data on HUL     0\n",
      "Unnamed: 1     11\n",
      "dtype: int64\n",
      "Balance Sheet after filling missing values:\n",
      "                                           Data on HUL              Unnamed: 1\n",
      "0                                       Balance Sheet                       0\n",
      "1                            Particulars ( In Crores)  As at 31st March, 2024\n",
      "2                                              ASSETS                       0\n",
      "3                                  Non-current assets                       0\n",
      "4                       Property, plant and equipment                    7178\n",
      "5                            Capital work-in-progress                     915\n",
      "6                                            Goodwill                   17316\n",
      "7                             Other intangible assets                   27885\n",
      "8                                    Financial assets                       0\n",
      "9   Investments in subsidiaries, associates, and j...                     981\n",
      "10                                        Investments                       2\n",
      "11                                              Loans                     392\n",
      "12                             Other financial assets                     714\n",
      "13                       Non-current tax assets (net)                    1118\n",
      "14                           Other non-current assets                     279\n",
      "15                     Total - Non-current assets (A)                   56780\n",
      "16                                     Current assets                       0\n",
      "17                                        Inventories                    3812\n",
      "18                                   Financial assets                       0\n",
      "19                                        Investments                    4510\n",
      "20                                  Trade receivables                    2690\n",
      "21                          Cash and cash equivalents                     609\n",
      "22  Bank balances other than cash and cash equival...                    6607\n",
      "23                                              Loans                      37\n",
      "24                             Other financial assets                    1416\n",
      "25                               Other current assets                     603\n",
      "26                               Assets held for sale                      12\n",
      "27                         Total - Current assets (B)                   20296\n",
      "28                           TOTAL ASSETS [(A) + (B)]                   77076\n",
      "29                                             Equity                       0\n",
      "30                               Equity share capital                     235\n",
      "31                                       Other equity                   50738\n",
      "32                                 Total - Equity (A)                   50973\n",
      "33                                        Liabilities                       0\n",
      "34                            Non-current liabilities                       0\n",
      "35                                  Lease liabilities                    1034\n",
      "36                        Other financial liabilities                     430\n",
      "37                                         Provisions                    1551\n",
      "38                     Deferred tax liabilities (net)                    6454\n",
      "39                  Non-current tax liabilities (net)                    4231\n",
      "40                Total - Non-current liabilities (B)                   13700\n",
      "41                                Current liabilities                       0\n",
      "42                                  Lease liabilities                     340\n",
      "43                                     Trade payables                       0\n",
      "44        Total outstanding dues of micro enterprises                     222\n",
      "45  Total outstanding dues of creditors other than...                    9926\n",
      "46                        Other financial liabilities                     797\n",
      "47                          Other current liabilities                     789\n",
      "48                                         Provisions                     329\n",
      "49                    Total - Current liabilities (C)                   12403\n",
      "50     TOTAL EQUITY AND LIABILITIES [(A) + (B) + (C)]                   77076\n"
     ]
    },
    {
     "name": "stderr",
     "output_type": "stream",
     "text": [
      "C:\\Users\\Sriharivatsan\\AppData\\Local\\Temp\\ipykernel_600492\\4053249474.py:14: SettingWithCopyWarning: \n",
      "A value is trying to be set on a copy of a slice from a DataFrame\n",
      "\n",
      "See the caveats in the documentation: https://pandas.pydata.org/pandas-docs/stable/user_guide/indexing.html#returning-a-view-versus-a-copy\n",
      "  Balance_Sheet.fillna(0, inplace=True)\n"
     ]
    }
   ],
   "source": [
    "import pandas as pd\n",
    "HUL_df = pd.read_excel('Hindustan Unilever.xlsx', usecols=\"A:B\")\n",
    "Balance_Sheet = HUL_df.head(51)\n",
    "\n",
    "missing_values = Balance_Sheet.isnull().sum()\n",
    "print(\"Missing values before filling:\\n\", missing_values)\n",
    "\n",
    "Balance_Sheet.fillna(0, inplace=True)\n",
    "\n",
    "print(\"Balance Sheet after filling missing values:\\n\", Balance_Sheet)\n"
   ]
  },
  {
   "cell_type": "code",
   "execution_count": 3,
   "id": "cc76c9c0-b4bb-4f08-b030-6f9abb094ba1",
   "metadata": {},
   "outputs": [
    {
     "name": "stdout",
     "output_type": "stream",
     "text": [
      "Missing values before filling:\n",
      " Data on HUL     0\n",
      "Unnamed: 1     11\n",
      "dtype: int64\n",
      "Balance Sheet after filling missing values:\n",
      "                                           Data on HUL              Unnamed: 1\n",
      "0                                       Balance Sheet                       0\n",
      "1                            Particulars ( In Crores)  As at 31st March, 2024\n",
      "2                                              ASSETS                       0\n",
      "3                                  Non-current assets                       0\n",
      "4                       Property, plant and equipment                    7178\n",
      "5                            Capital work-in-progress                     915\n",
      "6                                            Goodwill                   17316\n",
      "7                             Other intangible assets                   27885\n",
      "8                                    Financial assets                       0\n",
      "9   Investments in subsidiaries, associates, and j...                     981\n",
      "10                                        Investments                       2\n",
      "11                                              Loans                     392\n",
      "12                             Other financial assets                     714\n",
      "13                       Non-current tax assets (net)                    1118\n",
      "14                           Other non-current assets                     279\n",
      "15                     Total - Non-current assets (A)                   56780\n",
      "16                                     Current assets                       0\n",
      "17                                        Inventories                    3812\n",
      "18                                   Financial assets                       0\n",
      "19                                        Investments                    4510\n",
      "20                                  Trade receivables                    2690\n",
      "21                          Cash and cash equivalents                     609\n",
      "22  Bank balances other than cash and cash equival...                    6607\n",
      "23                                              Loans                      37\n",
      "24                             Other financial assets                    1416\n",
      "25                               Other current assets                     603\n",
      "26                               Assets held for sale                      12\n",
      "27                         Total - Current assets (B)                   20296\n",
      "28                           TOTAL ASSETS [(A) + (B)]                   77076\n",
      "29                                             Equity                       0\n",
      "30                               Equity share capital                     235\n",
      "31                                       Other equity                   50738\n",
      "32                                 Total - Equity (A)                   50973\n",
      "33                                        Liabilities                       0\n",
      "34                            Non-current liabilities                       0\n",
      "35                                  Lease liabilities                    1034\n",
      "36                        Other financial liabilities                     430\n",
      "37                                         Provisions                    1551\n",
      "38                     Deferred tax liabilities (net)                    6454\n",
      "39                  Non-current tax liabilities (net)                    4231\n",
      "40                Total - Non-current liabilities (B)                   13700\n",
      "41                                Current liabilities                       0\n",
      "42                                  Lease liabilities                     340\n",
      "43                                     Trade payables                       0\n",
      "44        Total outstanding dues of micro enterprises                     222\n",
      "45  Total outstanding dues of creditors other than...                    9926\n",
      "46                        Other financial liabilities                     797\n",
      "47                          Other current liabilities                     789\n",
      "48                                         Provisions                     329\n",
      "49                    Total - Current liabilities (C)                   12403\n",
      "50     TOTAL EQUITY AND LIABILITIES [(A) + (B) + (C)]                   77076\n",
      "Current Assets: 20296.0\n",
      "Current Liabilities: 12403.0\n",
      "Current Ratio: 1.64\n",
      "Inventories: 3812.0\n",
      "Quick Assets: 16484.0\n",
      "Quick Ratio: 1.33\n"
     ]
    },
    {
     "name": "stderr",
     "output_type": "stream",
     "text": [
      "C:\\Users\\Sriharivatsan\\AppData\\Local\\Temp\\ipykernel_600492\\3398782748.py:14: SettingWithCopyWarning: \n",
      "A value is trying to be set on a copy of a slice from a DataFrame\n",
      "\n",
      "See the caveats in the documentation: https://pandas.pydata.org/pandas-docs/stable/user_guide/indexing.html#returning-a-view-versus-a-copy\n",
      "  Balance_Sheet.fillna(0, inplace=True)\n"
     ]
    }
   ],
   "source": [
    "import pandas as pd\n",
    "\n",
    "HUL_df = pd.read_excel('Hindustan Unilever.xlsx', usecols=\"A:B\")\n",
    "\n",
    "Balance_Sheet = HUL_df.head(51)\n",
    "\n",
    "missing_values = Balance_Sheet.isnull().sum()\n",
    "print(\"Missing values before filling:\\n\", missing_values)\n",
    "\n",
    "Balance_Sheet.fillna(0, inplace=True)\n",
    "\n",
    "print(\"Balance Sheet after filling missing values:\\n\", Balance_Sheet)\n",
    "\n",
    "def calculate_liquidity_ratios(balance_sheet):\n",
    "    try:\n",
    "        current_assets_row = balance_sheet[balance_sheet.iloc[:, 0].str.contains(\"Total - Current assets\", na=False, case=False)]\n",
    "        current_assets = float(current_assets_row.iloc[0, 1]) if not current_assets_row.empty else 0\n",
    "        print(\"Current Assets:\", current_assets)\n",
    "        current_liabilities_row = balance_sheet[balance_sheet.iloc[:, 0].str.contains(\"Total - Current liabilities\", na=False, case=False)]\n",
    "        current_liabilities = float(current_liabilities_row.iloc[0, 1]) if not current_liabilities_row.empty else 0\n",
    "        print(\"Current Liabilities:\", current_liabilities)\n",
    "        current_ratio = current_assets / current_liabilities if current_liabilities != 0 else 0\n",
    "        print(f\"Current Ratio: {current_ratio:.2f}\")\n",
    "        inventories_row = balance_sheet[balance_sheet.iloc[:, 0].str.contains(\"Inventories\", na=False, case=False)]\n",
    "        inventories = float(inventories_row.iloc[0, 1]) if not inventories_row.empty else 0\n",
    "        print(\"Inventories:\", inventories)\n",
    "        quick_assets = current_assets - inventories\n",
    "        print(\"Quick Assets:\", quick_assets)\n",
    "        quick_ratio = quick_assets / current_liabilities if current_liabilities != 0 else 0\n",
    "        print(f\"Quick Ratio: {quick_ratio:.2f}\")\n",
    "    \n",
    "    except Exception as e:\n",
    "        print(f\"An error occurred: {e}\")\n",
    "\n",
    "calculate_liquidity_ratios(Balance_Sheet)\n"
   ]
  },
  {
   "cell_type": "code",
   "execution_count": 1,
   "id": "7ad745b4-7e02-4039-825c-93f8c169c9ad",
   "metadata": {},
   "outputs": [
    {
     "name": "stdout",
     "output_type": "stream",
     "text": [
      "Current Assets: 20296.0\n",
      "Current Liabilities: 12403.0\n",
      "1.64\n",
      "The current ratio of HUL which is 1.64 appears to be good which means that the current assets of HUL far outweigh the current liabilities and it indicates that HUL is in a very good liquidity position\n",
      "Inventories: 3812.0\n",
      "Quick Assets: 16484.0\n",
      "1.33\n",
      "The quick ratio of HUL is 1.33 which is very good as it removes inventory from the calculation as it views the liquidity aspect from a much quicker perspective\n"
     ]
    }
   ],
   "source": [
    "import pandas as pd\n",
    "\n",
    "def calculate_liquidity_ratios():\n",
    "    try:\n",
    "        HUL_df = pd.read_excel('Hindustan Unilever.xlsx', usecols=\"A:B\")\n",
    "        Balance_Sheet = HUL_df.head(51)\n",
    "        current_assets_row = Balance_Sheet[Balance_Sheet.iloc[:, 0].str.contains(\"Total - Current assets\", na=False, case=False)]\n",
    "        current_assets = float(current_assets_row.iloc[0, 1])\n",
    "        print(\"Current Assets:\", current_assets)\n",
    "        current_liabilities_row = Balance_Sheet[Balance_Sheet.iloc[:, 0].str.contains(\"Total - Current liabilities\", na=False, case=False)]\n",
    "        current_liabilities = float(current_liabilities_row.iloc[0, 1])\n",
    "        print(\"Current Liabilities:\", current_liabilities)\n",
    "        current_ratio_HUL = current_assets / current_liabilities\n",
    "        print(f\"{current_ratio_HUL:.2f}\")\n",
    "        print(f\"The current ratio of HUL which is {current_ratio_HUL:.2f} appears to be good which means that the current assets of HUL far outweigh the current liabilities and it indicates that HUL is in a very good liquidity position\")\n",
    "        inventories_row = Balance_Sheet[Balance_Sheet.iloc[:, 0].str.contains(\"Inventories\", na=False, case=False)]\n",
    "        inventories = float(inventories_row.iloc[0, 1])\n",
    "        print(\"Inventories:\", inventories)\n",
    "        Quick_Assets = current_assets - inventories\n",
    "        print(\"Quick Assets:\", Quick_Assets)\n",
    "        Quick_Ratio = Quick_Assets / current_liabilities\n",
    "        print(f\"{Quick_Ratio:.2f}\")\n",
    "        print(f\"The quick ratio of HUL is 1.33 which is very good as it removes inventory from the calculation as it views the liquidity aspect from a much quicker perspective\")\n",
    "    except Exception as e:\n",
    "        print(f\"An unexpected error occurred: {e}\")\n",
    "calculate_liquidity_ratios()\n"
   ]
  },
  {
   "cell_type": "code",
   "execution_count": 5,
   "id": "1f997a2f-05dc-42a6-a9f8-ae9ee8d6623f",
   "metadata": {},
   "outputs": [
    {
     "name": "stdout",
     "output_type": "stream",
     "text": [
      "Missing values before filling:\n",
      " Data on HUL     0\n",
      "Unnamed: 1     11\n",
      "dtype: int64\n",
      "Balance Sheet after filling missing values:\n",
      "                                           Data on HUL              Unnamed: 1\n",
      "0                                       Balance Sheet                       0\n",
      "1                            Particulars ( In Crores)  As at 31st March, 2024\n",
      "2                                              ASSETS                       0\n",
      "3                                  Non-current assets                       0\n",
      "4                       Property, plant and equipment                    7178\n",
      "5                            Capital work-in-progress                     915\n",
      "6                                            Goodwill                   17316\n",
      "7                             Other intangible assets                   27885\n",
      "8                                    Financial assets                       0\n",
      "9   Investments in subsidiaries, associates, and j...                     981\n",
      "10                                        Investments                       2\n",
      "11                                              Loans                     392\n",
      "12                             Other financial assets                     714\n",
      "13                       Non-current tax assets (net)                    1118\n",
      "14                           Other non-current assets                     279\n",
      "15                     Total - Non-current assets (A)                   56780\n",
      "16                                     Current assets                       0\n",
      "17                                        Inventories                    3812\n",
      "18                                   Financial assets                       0\n",
      "19                                        Investments                    4510\n",
      "20                                  Trade receivables                    2690\n",
      "21                          Cash and cash equivalents                     609\n",
      "22  Bank balances other than cash and cash equival...                    6607\n",
      "23                                              Loans                      37\n",
      "24                             Other financial assets                    1416\n",
      "25                               Other current assets                     603\n",
      "26                               Assets held for sale                      12\n",
      "27                         Total - Current assets (B)                   20296\n",
      "28                           TOTAL ASSETS [(A) + (B)]                   77076\n",
      "29                                             Equity                       0\n",
      "30                               Equity share capital                     235\n",
      "31                                       Other equity                   50738\n",
      "32                                 Total - Equity (A)                   50973\n",
      "33                                        Liabilities                       0\n",
      "34                            Non-current liabilities                       0\n",
      "35                                  Lease liabilities                    1034\n",
      "36                        Other financial liabilities                     430\n",
      "37                                         Provisions                    1551\n",
      "38                     Deferred tax liabilities (net)                    6454\n",
      "39                  Non-current tax liabilities (net)                    4231\n",
      "40                Total - Non-current liabilities (B)                   13700\n",
      "41                                Current liabilities                       0\n",
      "42                                  Lease liabilities                     340\n",
      "43                                     Trade payables                       0\n",
      "44        Total outstanding dues of micro enterprises                     222\n",
      "45  Total outstanding dues of creditors other than...                    9926\n",
      "46                        Other financial liabilities                     797\n",
      "47                          Other current liabilities                     789\n",
      "48                                         Provisions                     329\n",
      "49                    Total - Current liabilities (C)                   12403\n",
      "50     TOTAL EQUITY AND LIABILITIES [(A) + (B) + (C)]                   77076\n",
      "Current Assets: 20296.0\n",
      "Current Liabilities: 12403.0\n",
      "1.64\n",
      "The current ratio of HUL which is 1.64 appears to be good which means that the current assets of HUL far outweigh the current liabilities and it indicates that HUL is in a very good liquidity position\n",
      "Inventories: 3812.0\n",
      "Quick Assets: 16484.0\n",
      "1.33\n",
      "The quick ratio of HUL is 1.33 which is very good as it removes inventory from the calculation as it views the liquidity aspect from a much quicker perspective\n"
     ]
    },
    {
     "name": "stderr",
     "output_type": "stream",
     "text": [
      "C:\\Users\\Sriharivatsan\\AppData\\Local\\Temp\\ipykernel_600492\\1294336078.py:14: SettingWithCopyWarning: \n",
      "A value is trying to be set on a copy of a slice from a DataFrame\n",
      "\n",
      "See the caveats in the documentation: https://pandas.pydata.org/pandas-docs/stable/user_guide/indexing.html#returning-a-view-versus-a-copy\n",
      "  Balance_Sheet.fillna(0, inplace=True)\n"
     ]
    }
   ],
   "source": [
    "import pandas as pd\n",
    "\n",
    "HUL_df = pd.read_excel('Hindustan Unilever.xlsx', usecols=\"A:B\")\n",
    "Balance_Sheet = HUL_df.head(51)\n",
    "missing_values = Balance_Sheet.isnull().sum()\n",
    "print(\"Missing values before filling:\\n\", missing_values)\n",
    "Balance_Sheet.fillna(0, inplace=True)\n",
    "print(\"Balance Sheet after filling missing values:\\n\", Balance_Sheet)\n",
    "\n",
    "def calculate_liquidity_ratios():\n",
    "    try:\n",
    "        current_assets_row = Balance_Sheet[Balance_Sheet.iloc[:, 0].str.contains(\"Total - Current assets\", na=False, case=False)]\n",
    "        current_assets = float(current_assets_row.iloc[0, 1])\n",
    "        print(\"Current Assets:\", current_assets)\n",
    "        current_liabilities_row = Balance_Sheet[Balance_Sheet.iloc[:, 0].str.contains(\"Total - Current liabilities\", na=False, case=False)]\n",
    "        current_liabilities = float(current_liabilities_row.iloc[0, 1])\n",
    "        print(\"Current Liabilities:\", current_liabilities)\n",
    "        current_ratio_HUL = current_assets / current_liabilities\n",
    "        print(f\"{current_ratio_HUL:.2f}\")\n",
    "        print(f\"The current ratio of HUL which is {current_ratio_HUL:.2f} appears to be good which means that the current assets of HUL far outweigh the current liabilities and it indicates that HUL is in a very good liquidity position\")\n",
    "        inventories_row = Balance_Sheet[Balance_Sheet.iloc[:, 0].str.contains(\"Inventories\", na=False, case=False)]\n",
    "        inventories = float(inventories_row.iloc[0, 1])\n",
    "        print(\"Inventories:\", inventories)\n",
    "        Quick_Assets = current_assets - inventories\n",
    "        print(\"Quick Assets:\", Quick_Assets)\n",
    "        Quick_Ratio = Quick_Assets / current_liabilities\n",
    "        print(f\"{Quick_Ratio:.2f}\")\n",
    "        print(f\"The quick ratio of HUL is 1.33 which is very good as it removes inventory from the calculation as it views the liquidity aspect from a much quicker perspective\")\n",
    "    except Exception as e:\n",
    "        print(f\"An unexpected error occurred: {e}\")\n",
    "calculate_liquidity_ratios()\n"
   ]
  },
  {
   "cell_type": "code",
   "execution_count": 7,
   "id": "f46c534d-5c31-463e-924d-5d0a32d20b7a",
   "metadata": {},
   "outputs": [
    {
     "name": "stdout",
     "output_type": "stream",
     "text": [
      "                                                    0  \\\n",
      "52                                                  0   \n",
      "53                          Profit and Loss Statement   \n",
      "54                                        Particulars   \n",
      "55                                             INCOME   \n",
      "56                            Revenue from operations   \n",
      "57                                       Other income   \n",
      "58                                       TOTAL INCOME   \n",
      "59                                           EXPENSES   \n",
      "60                         Cost of materials consumed   \n",
      "61                        Purchases of Stock-in-trade   \n",
      "62  Changes in inventories of finished goods, work...   \n",
      "63                          Employee benefits expense   \n",
      "64                                      Finance costs   \n",
      "65              Depreciation and amortisation expense   \n",
      "66                                     Other expenses   \n",
      "67                                     TOTAL EXPENSES   \n",
      "68            Profit before exceptional items and tax   \n",
      "69                            Exceptional items (net)   \n",
      "70                                  Profit before tax   \n",
      "71                                       Tax expenses   \n",
      "72                                        Current tax   \n",
      "73                                Deferred tax charge   \n",
      "74                            PROFIT FOR THE YEAR (A)   \n",
      "75                                                  0   \n",
      "\n",
      "                              1  \n",
      "52                            0  \n",
      "53                            0  \n",
      "54  Year ended 31st March, 2024  \n",
      "55                            0  \n",
      "56                        60469  \n",
      "57                          973  \n",
      "58                        61442  \n",
      "59                            0  \n",
      "60                        17791  \n",
      "61                        11544  \n",
      "62                           -8  \n",
      "63                         2782  \n",
      "64                          302  \n",
      "65                         1097  \n",
      "66                        14170  \n",
      "67                        47678  \n",
      "68                        13764  \n",
      "69                          -89  \n",
      "70                        13675  \n",
      "71                            0  \n",
      "72                        -3446  \n",
      "73                         -115  \n",
      "74                        10114  \n",
      "75                            0  \n"
     ]
    }
   ],
   "source": [
    "import pandas as pd\n",
    "proft_and_loss_df = pd.read_excel(\"Hindustan Unilever.xlsx\" , header=None)\n",
    "profit_and_loss_statement = proft_and_loss_df.iloc[52:76, :2] \n",
    "profit_and_loss_statement.fillna(0, inplace=True)\n",
    "print(profit_and_loss_statement)\n"
   ]
  },
  {
   "cell_type": "code",
   "execution_count": 7,
   "id": "f227e26f-c355-4c08-8dcc-6d4ec64b4334",
   "metadata": {},
   "outputs": [
    {
     "name": "stdout",
     "output_type": "stream",
     "text": [
      "                                                    0  \\\n",
      "52                                                NaN   \n",
      "53                          Profit and Loss Statement   \n",
      "54                                        Particulars   \n",
      "55                                             INCOME   \n",
      "56                            Revenue from operations   \n",
      "57                                       Other income   \n",
      "58                                       TOTAL INCOME   \n",
      "59                                           EXPENSES   \n",
      "60                         Cost of materials consumed   \n",
      "61                        Purchases of Stock-in-trade   \n",
      "62  Changes in inventories of finished goods, work...   \n",
      "63                          Employee benefits expense   \n",
      "64                                      Finance costs   \n",
      "65              Depreciation and amortisation expense   \n",
      "66                                     Other expenses   \n",
      "67                                     TOTAL EXPENSES   \n",
      "68            Profit before exceptional items and tax   \n",
      "69                            Exceptional items (net)   \n",
      "70                                  Profit before tax   \n",
      "71                                       Tax expenses   \n",
      "72                                        Current tax   \n",
      "73                                Deferred tax charge   \n",
      "74                            PROFIT FOR THE YEAR (A)   \n",
      "75                                                NaN   \n",
      "\n",
      "                              1  \n",
      "52                          NaN  \n",
      "53                          NaN  \n",
      "54  Year ended 31st March, 2024  \n",
      "55                          NaN  \n",
      "56                        60469  \n",
      "57                          973  \n",
      "58                        61442  \n",
      "59                          NaN  \n",
      "60                        17791  \n",
      "61                        11544  \n",
      "62                           -8  \n",
      "63                         2782  \n",
      "64                          302  \n",
      "65                         1097  \n",
      "66                        14170  \n",
      "67                        47678  \n",
      "68                        13764  \n",
      "69                          -89  \n",
      "70                        13675  \n",
      "71                          NaN  \n",
      "72                        -3446  \n",
      "73                         -115  \n",
      "74                        10114  \n",
      "75                          NaN  \n"
     ]
    }
   ],
   "source": [
    "import pandas as pd\n",
    "proft_and_loss_df = pd.read_excel(\"Hindustan Unilever.xlsx\" , header=None)\n",
    "profit_and_loss_statement = proft_and_loss_df.iloc[52:76, :2]\n",
    "print(profit_and_loss_statement)"
   ]
  },
  {
   "cell_type": "code",
   "execution_count": 63,
   "id": "4a479562-c359-46c8-bc15-162b25cb51c3",
   "metadata": {},
   "outputs": [],
   "source": [
    "profit_and_loss_statement = proft_and_loss_df.iloc[52:76, :2]\n",
    "\n",
    "profit_and_loss_statement.columns = [\"Categories\",\"Values\"]\n",
    "\n",
    "cogs_items = [\"Cost of materials consumed\",\"Purchases of Stcok_in_trade\",\"Changes in inventories of finished goods, work-in-progress and stock-in-trade\"]"
   ]
  },
  {
   "cell_type": "code",
   "execution_count": 65,
   "id": "11daed1a-fe10-4c22-b6eb-73fa83114c53",
   "metadata": {},
   "outputs": [
    {
     "name": "stdout",
     "output_type": "stream",
     "text": [
      "                    Categories Values\n",
      "60  Cost of materials consumed  17791\n"
     ]
    }
   ],
   "source": [
    "cogs_details = profit_and_loss_statement[profit_and_loss_statement[\"Categories\"].isin(cogs_items)]\n",
    "print(cogs_details)"
   ]
  },
  {
   "cell_type": "code",
   "execution_count": 67,
   "id": "46e469fd-b8b8-44d7-a66a-20aa7277ec81",
   "metadata": {},
   "outputs": [
    {
     "name": "stdout",
     "output_type": "stream",
     "text": [
      "3812.0\n"
     ]
    }
   ],
   "source": [
    "print(inventories)"
   ]
  },
  {
   "cell_type": "code",
   "execution_count": 69,
   "id": "6285b56c-bea9-4185-907c-47ba250a4355",
   "metadata": {},
   "outputs": [
    {
     "name": "stdout",
     "output_type": "stream",
     "text": [
      "                                          Data on HUL              Unnamed: 2\n",
      "0                                       Balance Sheet                     NaN\n",
      "1                            Particulars ( In Crores)  As at 31st March, 2023\n",
      "2                                              ASSETS                     NaN\n",
      "3                                  Non-current assets                     NaN\n",
      "4                       Property, plant and equipment                    6189\n",
      "5                            Capital work-in-progress                    1020\n",
      "6                                            Goodwill                   17316\n",
      "7                             Other intangible assets                   27900\n",
      "8                                    Financial assets                     NaN\n",
      "9   Investments in subsidiaries, associates, and j...                     981\n",
      "10                                        Investments                       2\n",
      "11                                              Loans                     339\n",
      "12                             Other financial assets                     715\n",
      "13                       Non-current tax assets (net)                    1115\n",
      "14                           Other non-current assets                     199\n",
      "15                     Total - Non-current assets (A)                   55776\n",
      "16                                     Current assets                     NaN\n",
      "17                                        Inventories                    4031\n",
      "18                                   Financial assets                     NaN\n",
      "19                                        Investments                    2811\n",
      "20                                  Trade receivables                    2735\n",
      "21                          Cash and cash equivalents                     586\n",
      "22  Bank balances other than cash and cash equival...                    3836\n",
      "23                                              Loans                      35\n",
      "24                             Other financial assets                    1391\n",
      "25                               Other current assets                     612\n",
      "26                               Assets held for sale                      12\n",
      "27                         Total - Current assets (B)                   16049\n",
      "28                           TOTAL ASSETS [(A) + (B)]                   71825\n",
      "29                                             Equity                     NaN\n",
      "30                               Equity share capital                     235\n",
      "31                                       Other equity                   49986\n",
      "32                                 Total - Equity (A)                   50221\n",
      "33                                        Liabilities                     NaN\n",
      "34                            Non-current liabilities                     NaN\n",
      "35                                  Lease liabilities                     746\n",
      "36                        Other financial liabilities                     495\n",
      "37                                         Provisions                    1335\n",
      "38                     Deferred tax liabilities (net)                    6325\n",
      "39                  Non-current tax liabilities (net)                    1076\n",
      "40                Total - Non-current liabilities (B)                    9977\n",
      "41                                Current liabilities                     NaN\n",
      "42                                  Lease liabilities                     293\n",
      "43                                     Trade payables                     NaN\n",
      "44        Total outstanding dues of micro enterprises                      89\n",
      "45  Total outstanding dues of creditors other than...                    9302\n",
      "46                        Other financial liabilities                     829\n",
      "47                          Other current liabilities                     735\n",
      "48                                         Provisions                     379\n",
      "49                    Total - Current liabilities (C)                   11627\n",
      "50     TOTAL EQUITY AND LIABILITIES [(A) + (B) + (C)]                   71825\n",
      "4031\n"
     ]
    }
   ],
   "source": [
    "import pandas as pd\n",
    "tdf = pd.read_excel('Hindustan Unilever.xlsx', usecols=[0, 2])\n",
    "\n",
    "bs1 = tdf.iloc[:51]\n",
    "print(bs1)\n",
    "inventories1 = tdf.iloc[17,1]\n",
    "print(inventories1)"
   ]
  },
  {
   "cell_type": "code",
   "execution_count": 71,
   "id": "8abf5934-17da-4c0f-b567-98afb316b3d6",
   "metadata": {},
   "outputs": [
    {
     "name": "stdout",
     "output_type": "stream",
     "text": [
      "3921.5\n",
      "11968\n"
     ]
    }
   ],
   "source": [
    "average_inventory = (inventories + inventories1) / 2\n",
    "print(average_inventory)\n",
    "cogs = tdf.iloc[60,1]\n",
    "print(cogs)"
   ]
  },
  {
   "cell_type": "code",
   "execution_count": 73,
   "id": "fe3cfbec-c039-42d4-9d57-e48718851b9c",
   "metadata": {},
   "outputs": [
    {
     "name": "stdout",
     "output_type": "stream",
     "text": [
      "3.0518934081346423\n"
     ]
    }
   ],
   "source": [
    "Inventory_Turnover_Ratio = cogs/average_inventory\n",
    "print(Inventory_Turnover_Ratio)"
   ]
  },
  {
   "cell_type": "code",
   "execution_count": 75,
   "id": "9d9ac638-16b8-4d61-a345-65ff015f61be",
   "metadata": {},
   "outputs": [
    {
     "name": "stdout",
     "output_type": "stream",
     "text": [
      "Net Income: 10114\n"
     ]
    }
   ],
   "source": [
    "net_income_row = profit_and_loss_statement[profit_and_loss_statement[\"Categories\"] == \"PROFIT FOR THE YEAR (A)\"]\n",
    "if not net_income_row.empty:\n",
    "    net_income = net_income_row[\"Values\"].values[0]\n",
    "    print(\"Net Income:\", net_income)\n",
    "else:\n",
    "    print(\"Net Income data not found.\")\n"
   ]
  },
  {
   "cell_type": "code",
   "execution_count": 77,
   "id": "7c6d6743-a60b-42e3-a4a7-c2798315aeb0",
   "metadata": {},
   "outputs": [
    {
     "name": "stdout",
     "output_type": "stream",
     "text": [
      "Revenue 61442\n"
     ]
    }
   ],
   "source": [
    "Total_income_row = profit_and_loss_statement[profit_and_loss_statement[\"Categories\"] == \"TOTAL INCOME\"]\n",
    "if not Total_income_row.empty:\n",
    "    Revenue = Total_income_row[\"Values\"].values[0]\n",
    "    print(\"Revenue\",Revenue)\n",
    "else:\n",
    "    print(\"Revenue data is not there\")"
   ]
  },
  {
   "cell_type": "code",
   "execution_count": 79,
   "id": "6eb1a5d3-ffb6-4567-9d69-562aa9c5e00a",
   "metadata": {},
   "outputs": [
    {
     "name": "stdout",
     "output_type": "stream",
     "text": [
      "16.461052700107416\n"
     ]
    }
   ],
   "source": [
    "net_profit_margin = net_income/Revenue* 100\n",
    "print(net_profit_margin)"
   ]
  },
  {
   "cell_type": "code",
   "execution_count": 81,
   "id": "ddec2868-7364-44bb-8564-4e130723056b",
   "metadata": {},
   "outputs": [
    {
     "name": "stdout",
     "output_type": "stream",
     "text": [
      "49474\n",
      "0.8052146740014974\n"
     ]
    }
   ],
   "source": [
    "Gross_Profit = Revenue - cogs\n",
    "print(Gross_Profit)\n",
    "Gross_Profit_Margin = Gross_Profit/Revenue\n",
    "print(Gross_Profit_Margin)"
   ]
  },
  {
   "cell_type": "code",
   "execution_count": 83,
   "id": "e8e22b44-2ed7-4639-80a6-70b8cf326633",
   "metadata": {},
   "outputs": [
    {
     "name": "stdout",
     "output_type": "stream",
     "text": [
      "Profit before taxes 13675\n"
     ]
    }
   ],
   "source": [
    "profit_before_taxes_row = profit_and_loss_statement[profit_and_loss_statement[\"Categories\"] == \"Profit before tax\"]\n",
    "if not profit_before_taxes_row.empty:\n",
    "    PBT = profit_before_taxes_row[\"Values\"].values[0]\n",
    "    print(\"Profit before taxes\",PBT)\n",
    "else:\n",
    "    print(\"PBT data is not found\")"
   ]
  },
  {
   "cell_type": "code",
   "execution_count": 85,
   "id": "9d2a0dbf-4499-4e88-8fc0-e305e4210eea",
   "metadata": {},
   "outputs": [
    {
     "name": "stdout",
     "output_type": "stream",
     "text": [
      "22.256762475179844\n"
     ]
    }
   ],
   "source": [
    "profit_before_taxes_margin = PBT/Revenue*100\n",
    "print(profit_before_taxes_margin) # Finance costs"
   ]
  },
  {
   "cell_type": "code",
   "execution_count": 87,
   "id": "a1225dfa-20b9-4227-8b99-2911783fbef2",
   "metadata": {},
   "outputs": [
    {
     "name": "stdout",
     "output_type": "stream",
     "text": [
      "Finance costs: 302\n"
     ]
    }
   ],
   "source": [
    "Finance_costs_row = profit_and_loss_statement[profit_and_loss_statement[\"Categories\"] == \"Finance costs\"]\n",
    "if not Finance_costs_row.empty:\n",
    "    Finance_costs = Finance_costs_row[\"Values\"].values[0]\n",
    "    print(\"Finance costs:\", Finance_costs)\n",
    "else:\n",
    "    print(\"Finance costs data not found.\")"
   ]
  },
  {
   "cell_type": "code",
   "execution_count": 89,
   "id": "aca70393-9411-4820-a622-abf436cd8a61",
   "metadata": {},
   "outputs": [
    {
     "name": "stdout",
     "output_type": "stream",
     "text": [
      "13977\n",
      "22.74828293349826\n"
     ]
    }
   ],
   "source": [
    "PBIT = PBT + Finance_costs\n",
    "print(PBIT)\n",
    "PBIT_Margin = PBIT/Revenue * 100\n",
    "print(PBIT_Margin)"
   ]
  },
  {
   "cell_type": "code",
   "execution_count": 91,
   "id": "8d7f7be2-a71e-4d00-a661-631ea36f9aeb",
   "metadata": {},
   "outputs": [
    {
     "name": "stdout",
     "output_type": "stream",
     "text": [
      "Depreciation and Amortization expense: 1097\n"
     ]
    }
   ],
   "source": [
    "Depreciation_and_Amortization_row = profit_and_loss_statement[profit_and_loss_statement[\"Categories\"] == \"Depreciation and amortisation expense\"]\n",
    "if not Depreciation_and_Amortization_row.empty:\n",
    "    Depreciation_and_Amortization_expense = Depreciation_and_Amortization_row[\"Values\"].values[0]\n",
    "    print(\"Depreciation and Amortization expense:\", Depreciation_and_Amortization_expense)\n",
    "else:\n",
    "    print(\"Depreciation and Amortization expense data not found.\")"
   ]
  },
  {
   "cell_type": "code",
   "execution_count": 93,
   "id": "733ff94d-f7da-4e36-a378-66b3419a1a34",
   "metadata": {},
   "outputs": [
    {
     "name": "stdout",
     "output_type": "stream",
     "text": [
      "Profit before exceptional items and taxes: 13764\n"
     ]
    }
   ],
   "source": [
    "PBEIT_row = profit_and_loss_statement[profit_and_loss_statement[\"Categories\"] ==  \"Profit before exceptional items and tax\"]\n",
    "if not PBEIT_row.empty:\n",
    "    PBEIT = PBEIT_row[\"Values\"].values[0]\n",
    "    print(\"Profit before exceptional items and taxes:\", PBEIT)\n",
    "else:\n",
    "    print(\"Profit before exceptional items and taxes data not found.\")"
   ]
  },
  {
   "cell_type": "code",
   "execution_count": 95,
   "id": "0913ea72-2ab9-44e6-98e2-8fbf11c2cf3e",
   "metadata": {},
   "outputs": [
    {
     "name": "stdout",
     "output_type": "stream",
     "text": [
      "Employee benefits expense: 2782\n"
     ]
    }
   ],
   "source": [
    "employee_row = profit_and_loss_statement[profit_and_loss_statement[\"Categories\"] ==  \"Employee benefits expense\"]\n",
    "if not employee_row.empty:\n",
    "    employee_expense = employee_row[\"Values\"].values[0]\n",
    "    print(\"Employee benefits expense:\", employee_expense)\n",
    "else:\n",
    "    print(\"employee expenses data not found.\")"
   ]
  },
  {
   "cell_type": "code",
   "execution_count": 97,
   "id": "cff6d49f-d210-4410-9478-44cd54d9ad55",
   "metadata": {},
   "outputs": [
    {
     "name": "stdout",
     "output_type": "stream",
     "text": [
      "15163\n"
     ]
    }
   ],
   "source": [
    "Profit_before_depreciation_interest_taxes = PBEIT + Depreciation_and_Amortization_expense + Finance_costs \n",
    "print(Profit_before_depreciation_interest_taxes)"
   ]
  },
  {
   "cell_type": "code",
   "execution_count": 99,
   "id": "ee9c0b02-5096-404b-8290-726118c185bc",
   "metadata": {},
   "outputs": [
    {
     "name": "stdout",
     "output_type": "stream",
     "text": [
      "24.678558640669248\n"
     ]
    }
   ],
   "source": [
    "PBDIT_Margin = Profit_before_depreciation_interest_taxes/Revenue * 100\n",
    "print(PBDIT_Margin)"
   ]
  },
  {
   "cell_type": "code",
   "execution_count": 101,
   "id": "8b2676ba-6ceb-472d-8ef5-9f9236448773",
   "metadata": {},
   "outputs": [
    {
     "name": "stdout",
     "output_type": "stream",
     "text": [
      "50973\n",
      "77076\n"
     ]
    }
   ],
   "source": [
    "HUL_df.columns = ['Particulars', 'Values']\n",
    "\n",
    "total_equity = HUL_df.loc[HUL_df['Particulars'].str.contains(\"Total - Equity\", na=False, case=False), 'Values'].values\n",
    "total_assets = HUL_df.loc[HUL_df['Particulars'].str.contains(\"TOTAL ASSETS\", na=False, case=False), 'Values'].values\n",
    "\n",
    "total_equity = total_equity[0] if len(total_equity) > 0 else \"Not Found\"\n",
    "total_assets = total_assets[0] if len(total_assets) > 0 else \"Not Found\"\n",
    "\n",
    "print(total_equity)\n",
    "print(total_assets)\n"
   ]
  },
  {
   "cell_type": "code",
   "execution_count": 103,
   "id": "7884a362-49a6-466a-8f33-3176a6371775",
   "metadata": {},
   "outputs": [
    {
     "name": "stdout",
     "output_type": "stream",
     "text": [
      "19.841877072175464\n"
     ]
    }
   ],
   "source": [
    "Return_on_Equity = net_income/total_equity * 100\n",
    "print(Return_on_Equity)"
   ]
  },
  {
   "cell_type": "code",
   "execution_count": 105,
   "id": "025f7533-e141-4d9e-97a7-d47be2c12180",
   "metadata": {},
   "outputs": [
    {
     "name": "stdout",
     "output_type": "stream",
     "text": [
      "13.122113238881106\n"
     ]
    }
   ],
   "source": [
    "Return_on_Assets = net_income/total_assets * 100\n",
    "print(Return_on_Assets)"
   ]
  },
  {
   "cell_type": "code",
   "execution_count": 107,
   "id": "779cc844-24d6-4674-a3b9-3ceb98eb0a43",
   "metadata": {},
   "outputs": [
    {
     "name": "stdout",
     "output_type": "stream",
     "text": [
      "79.71612434480252\n"
     ]
    }
   ],
   "source": [
    "Asset_turnover_ratio = Revenue / total_assets * 100\n",
    "print(Asset_turnover_ratio)"
   ]
  },
  {
   "cell_type": "code",
   "execution_count": 109,
   "id": "91b35ba0-cafa-4677-b49a-4b359184dad5",
   "metadata": {},
   "outputs": [
    {
     "name": "stdout",
     "output_type": "stream",
     "text": [
      "0\n"
     ]
    }
   ],
   "source": [
    "HUL_df['Particulars'] = HUL_df['Particulars'].astype(str)\n",
    "debt_row = HUL_df[HUL_df['Particulars'].str.contains(\"Total Debt\", case=False, na=False)]\n",
    "total_debt = debt_row['Values'].iloc[0] if not debt_row.empty else 0\n",
    "\n",
    "print(total_debt)"
   ]
  },
  {
   "cell_type": "code",
   "execution_count": 111,
   "id": "be1f517f-e971-4b27-b981-db932e3452e4",
   "metadata": {},
   "outputs": [
    {
     "name": "stdout",
     "output_type": "stream",
     "text": [
      "0.0\n"
     ]
    }
   ],
   "source": [
    "Debt_to_Equity_Ratio = total_debt / total_equity\n",
    "print(Debt_to_Equity_Ratio)"
   ]
  },
  {
   "cell_type": "code",
   "execution_count": 117,
   "id": "2cc10cb8-a1aa-43ef-bf13-a274d53e049d",
   "metadata": {},
   "outputs": [
    {
     "name": "stdout",
     "output_type": "stream",
     "text": [
      "                                          Particulars  \\\n",
      "0                                         Particulars   \n",
      "1             A CASH FLOWS FROM OPERATING ACTIVITIES:   \n",
      "2                                   Profit before tax   \n",
      "3                                    Adjustments for:   \n",
      "4               Depreciation and amortisation expense   \n",
      "5   Loss/(Profit) on sale of property, plant and e...   \n",
      "6   Contingent consideration true up for business ...   \n",
      "7   Fair value gain on financial liability on acqu...   \n",
      "8                                      Finance income   \n",
      "9                                     Dividend income   \n",
      "10  Other non-operating income - Fair value gain o...   \n",
      "11                                   Interest expense   \n",
      "12                     Profit on sale of brand rights   \n",
      "13           Movement of provision towards litigation   \n",
      "14  Inventory written off net of Provision/(write ...   \n",
      "15  Bad debts/assets written off net of Provision/...   \n",
      "16                    Transaction cost on acquisition   \n",
      "17  Mark-to-market (gain)/loss on derivative finan...   \n",
      "18  Cash Generated from operations before working ...   \n",
      "19                                   Adjustments for:   \n",
      "20          (Increase)/decrease in Non-Current Assets   \n",
      "21              (Increase)/decrease in Current Assets   \n",
      "22                 (Increase)/decrease in Inventories   \n",
      "23     Increase/(decrease) in Non-Current Liabilities   \n",
      "24         Increase/(decrease) in Current Liabilities   \n",
      "25               Cash flows generated from operations   \n",
      "26                         Taxes paid, net of refunds   \n",
      "27  Net cash flows generated from operating activi...   \n",
      "28            B CASH FLOWS FROM INVESTING ACTIVITIES:   \n",
      "29          Purchase of property, plant and equipment   \n",
      "30     Sale proceeds of property, plant and equipment   \n",
      "31                      Purchase of intangible assets   \n",
      "32  Sale proceeds of intangible assets (brand rights)   \n",
      "33                           Investment in subsidiary   \n",
      "34                    Transaction cost on acquisition   \n",
      "35                        Investment in Joint Venture   \n",
      "36  Contingent consideration paid on business comb...   \n",
      "37                    Purchase of current investments   \n",
      "38               Sale proceeds of current investments   \n",
      "39                        Loans given to subsidiaries   \n",
      "40                       Loans repaid by subsidiaries   \n",
      "41                 Loans repaid by/ (given) to others   \n",
      "42  Investment in term deposits (having original m...   \n",
      "43  Redemption/maturity of term deposits (having o...   \n",
      "44                                  Interest received   \n",
      "45                Dividend received from subsidiaries   \n",
      "46                      Dividend received from others   \n",
      "47  Net cash flows used in investing activities - (B)   \n",
      "48            C CASH FLOWS FROM FINANCING ACTIVITIES:   \n",
      "49                                      Dividend paid   \n",
      "50             Principal payment of lease liabilities   \n",
      "51                 Interest paid on lease liabilities   \n",
      "52  Net cash flows used in financing activities - (C)   \n",
      "53  Net increase in cash and cash equivalents - [(...   \n",
      "\n",
      "                         Values  \n",
      "0   Year ended 31st March, 2024  \n",
      "1                           NaN  \n",
      "2                         13675  \n",
      "3                           NaN  \n",
      "4                          1097  \n",
      "5                            17  \n",
      "6                             -  \n",
      "7                           -37  \n",
      "8                          -551  \n",
      "9                          -176  \n",
      "10                         -246  \n",
      "11                          285  \n",
      "12                            -  \n",
      "13                         -159  \n",
      "14                          155  \n",
      "15                           -9  \n",
      "16                            -  \n",
      "17                           -8  \n",
      "18                        14043  \n",
      "19                          NaN  \n",
      "20                          -28  \n",
      "21                          170  \n",
      "22                           77  \n",
      "23                          144  \n",
      "24                          773  \n",
      "25                        15179  \n",
      "26                         -295  \n",
      "27                        14884  \n",
      "28                          NaN  \n",
      "29                        -1309  \n",
      "30                           20  \n",
      "31                           -9  \n",
      "32                            -  \n",
      "33                            -  \n",
      "34                            -  \n",
      "35                            -  \n",
      "36                           -4  \n",
      "37                       -21198  \n",
      "38                        19752  \n",
      "39                         -431  \n",
      "40                          381  \n",
      "41                            1  \n",
      "42                        -9080  \n",
      "43                         6313  \n",
      "44                          417  \n",
      "45                          173  \n",
      "46                            3  \n",
      "47                        -4971  \n",
      "48                          NaN  \n",
      "49                        -9398  \n",
      "50                         -394  \n",
      "51                          -98  \n",
      "52                        -9890  \n",
      "53                           23  \n"
     ]
    }
   ],
   "source": [
    "cash_flow_df = HUL_df.iloc[76:131].reset_index(drop=True)\n",
    "cash_flow_df.columns = ['Particulars', 'Values']\n",
    "print(cash_flow_df)"
   ]
  },
  {
   "cell_type": "code",
   "execution_count": 119,
   "id": "0c24c7f3-9997-4a61-93a6-2a61518f3979",
   "metadata": {},
   "outputs": [
    {
     "name": "stdout",
     "output_type": "stream",
     "text": [
      "Dividends Paid: ₹9398 crores\n"
     ]
    }
   ],
   "source": [
    "dividends_row = cash_flow_df[cash_flow_df['Particulars'].str.contains(\"dividend paid\", case=False, na=False)]\n",
    "dividends_paid = abs(dividends_row['Values'].values[0]) if not dividends_row.empty else 0\n",
    "print(f\"Dividends Paid: ₹{dividends_paid} crores\")"
   ]
  },
  {
   "cell_type": "code",
   "execution_count": 121,
   "id": "4e7a717f-a41e-4c47-890f-07dc24795abb",
   "metadata": {},
   "outputs": [
    {
     "name": "stdout",
     "output_type": "stream",
     "text": [
      "92.92070397468855\n"
     ]
    }
   ],
   "source": [
    "dividend_payout_ratio = dividends_paid/net_income*100\n",
    "print(dividend_payout_ratio)"
   ]
  },
  {
   "cell_type": "code",
   "execution_count": 153,
   "id": "92678f45-1a07-419e-9f4e-a2db45fcb8f9",
   "metadata": {},
   "outputs": [
    {
     "name": "stdin",
     "output_type": "stream",
     "text": [
      "Enter the number of shares outsanding 2349361208\n"
     ]
    },
    {
     "name": "stdout",
     "output_type": "stream",
     "text": [
      "43.05\n"
     ]
    }
   ],
   "source": [
    "number_of_shares_outstanding = float(input(\"Enter the number of shares outsanding\")) # 2,349,361,208\n",
    "earnings_per_share = net_income*(10000000)/number_of_shares_outstanding\n",
    "print(f\"{earnings_per_share:.2f}\")"
   ]
  },
  {
   "cell_type": "code",
   "execution_count": 125,
   "id": "fde6ad0d-2766-4a2f-9a6f-e99a576f3477",
   "metadata": {},
   "outputs": [
    {
     "name": "stdout",
     "output_type": "stream",
     "text": [
      "40.002363059363155\n"
     ]
    }
   ],
   "source": [
    "dividend_per_share = dividends_paid*10000000/number_of_shares_outstanding\n",
    "print(dividend_per_share)"
   ]
  },
  {
   "cell_type": "code",
   "execution_count": 151,
   "id": "89d62be9-4af6-4f5f-a4e8-f076917c6cb9",
   "metadata": {},
   "outputs": [
    {
     "name": "stdin",
     "output_type": "stream",
     "text": [
      "please enter the market price per share 2192.28\n"
     ]
    },
    {
     "name": "stdout",
     "output_type": "stream",
     "text": [
      "0.01824692240925573\n",
      "Hindustan Unilever Limited (HUL) has a dividend yield of 0.02%, meaning it distributes 1.82% of its share price as dividends annually. This highlights the company’s approach to rewarding its investors.\n"
     ]
    }
   ],
   "source": [
    "user_input = float(input(\"please enter the market price per share\")) #2192.28\n",
    "dividend_yield = dividend_per_share/user_input\n",
    "print(dividend_yield)\n",
    "print(f\"Hindustan Unilever Limited (HUL) has a dividend yield of {dividend_yield:.2f}%, meaning it distributes 1.82% of its share price as dividends annually. This highlights the company’s approach to rewarding its investors.\")"
   ]
  },
  {
   "cell_type": "code",
   "execution_count": 141,
   "id": "afb3a401-4aab-4271-9dc2-5d32667187ae",
   "metadata": {},
   "outputs": [
    {
     "name": "stdout",
     "output_type": "stream",
     "text": [
      "7.08\n",
      "Hindustan Unilever Limited (HUL) retains 7.08% of its earnings instead of distributing them as dividends. This suggests that the company prioritises shareholder returns while keeping a small portion for reinvestment.\n"
     ]
    }
   ],
   "source": [
    "Earnings_retention_ratio = (net_income - dividends_paid)/net_income * 100\n",
    "print(f\"{Earnings_retention_ratio:.2f}\")\n",
    "print(\"Hindustan Unilever Limited (HUL) retains 7.08% of its earnings instead of distributing them as dividends. This suggests that the company prioritises shareholder returns while keeping a small portion for reinvestment.\")"
   ]
  },
  {
   "cell_type": "markdown",
   "id": "2bd55c7c-ec2f-4b27-b32d-ac6089cc66fb",
   "metadata": {},
   "source": [
    "### ITC"
   ]
  },
  {
   "cell_type": "code",
   "execution_count": 5,
   "id": "b16cef4b-4e16-4fdb-8de9-f4b7ea797c4f",
   "metadata": {},
   "outputs": [],
   "source": [
    "import pandas as pd\n",
    "ITC_df = pd.read_excel('ITC.xlsx')"
   ]
  },
  {
   "cell_type": "code",
   "execution_count": 7,
   "id": "47863c36-8202-4c1f-94ec-b04ceb6f56e3",
   "metadata": {},
   "outputs": [
    {
     "data": {
      "text/plain": [
       "(146, 3)"
      ]
     },
     "execution_count": 7,
     "metadata": {},
     "output_type": "execute_result"
    }
   ],
   "source": [
    "ITC_df.shape"
   ]
  },
  {
   "cell_type": "code",
   "execution_count": 9,
   "id": "720db52d-e9ce-43db-acb7-312f927d8cac",
   "metadata": {},
   "outputs": [
    {
     "name": "stdout",
     "output_type": "stream",
     "text": [
      "                                        Balance Sheet  \\\n",
      "0                                         Particulars   \n",
      "1                                              ASSETS   \n",
      "2                                  Non-current assets   \n",
      "3                   (a) Property, Plant and Equipment   \n",
      "4                        (b) Capital work-in-progress   \n",
      "5                             (c) Investment Property   \n",
      "6                                        (d) Goodwill   \n",
      "7                         (e) Other Intangible assets   \n",
      "8             (f) Intangible assets under development   \n",
      "9                             (g) Right-of-use assets   \n",
      "10                               (h) Financial Assets   \n",
      "11                                    (i) Investments   \n",
      "12                                         (ii) Loans   \n",
      "13                                       (iii) Others   \n",
      "14                       (i) Other non-current assets   \n",
      "15                           Total Non-current assets   \n",
      "16                                     Current assets   \n",
      "17                                    (a) Inventories   \n",
      "18                               (b) Financial Assets   \n",
      "19                                    (i) Investments   \n",
      "20                             (ii) Trade receivables   \n",
      "21                    (iii) Cash and cash equivalents   \n",
      "22                           (iv) Other Bank Balances   \n",
      "23                                          (v) Loans   \n",
      "24                                        (vi) Others   \n",
      "25                             Total Financial Assets   \n",
      "26                           (c) Other current assets   \n",
      "27                               Total Current assets   \n",
      "28                                       TOTAL ASSETS   \n",
      "29                             EQUITY AND LIABILITIES   \n",
      "30                                             Equity   \n",
      "31                           (a) Equity Share capital   \n",
      "32                                   (b) Other Equity   \n",
      "33                                       Total Equity   \n",
      "34                                        Liabilities   \n",
      "35                            Non-current liabilities   \n",
      "36                          (a) Financial Liabilities   \n",
      "37                                     (i) Borrowings   \n",
      "38                             (ii) Lease liabilities   \n",
      "39                  (iii) Other financial liabilities   \n",
      "40                                     (b) Provisions   \n",
      "41                 (c) Deferred tax liabilities (Net)   \n",
      "42                      Total Non-current liabilities   \n",
      "43                                Current liabilities   \n",
      "44                          (a) Financial Liabilities   \n",
      "45                                     (i) Borrowings   \n",
      "46                             (ii) Lease liabilities   \n",
      "47                               (iii) Trade payables   \n",
      "48  Total outstanding dues of micro enterprises an...   \n",
      "49  Total outstanding dues of creditors other than...   \n",
      "50                   (iv) Other financial liabilities   \n",
      "51                      (b) Other current liabilities   \n",
      "52                                     (c) Provisions   \n",
      "53                  (d) Current Tax Liabilities (Net)   \n",
      "54                          Total Current liabilities   \n",
      "55                       TOTAL EQUITY AND LIABILITIES   \n",
      "56                                                NaN   \n",
      "\n",
      "                              Unnamed: 1  \n",
      "0   As at 31st March, 2024 (` in Crores)  \n",
      "1                                    NaN  \n",
      "2                                    NaN  \n",
      "3                                22015.5  \n",
      "4                                1077.97  \n",
      "5                                 373.09  \n",
      "6                                  577.2  \n",
      "7                                2055.74  \n",
      "8                                   9.07  \n",
      "9                                 721.69  \n",
      "10                                   NaN  \n",
      "11                              22821.94  \n",
      "12                                  2.63  \n",
      "13                                372.88  \n",
      "14                               1229.22  \n",
      "15                              51256.93  \n",
      "16                                   NaN  \n",
      "17                              12631.51  \n",
      "18                                   NaN  \n",
      "19                              11916.88  \n",
      "20                               3311.45  \n",
      "21                                197.63  \n",
      "22                               6020.06  \n",
      "23                                   9.1  \n",
      "24                                849.86  \n",
      "25                              22304.98  \n",
      "26                               1134.18  \n",
      "27                              36070.67  \n",
      "28                               87327.6  \n",
      "29                                   NaN  \n",
      "30                                   NaN  \n",
      "31                               1248.47  \n",
      "32                              70984.83  \n",
      "33                               72233.3  \n",
      "34                                   NaN  \n",
      "35                                   NaN  \n",
      "36                                   NaN  \n",
      "37                                  1.76  \n",
      "38                                261.95  \n",
      "39                                109.87  \n",
      "40                                221.45  \n",
      "41                               2083.66  \n",
      "42                                373.58  \n",
      "43                                   NaN  \n",
      "44                                   NaN  \n",
      "45                                  1.52  \n",
      "46                                 46.74  \n",
      "47                                   NaN  \n",
      "48                                206.85  \n",
      "49                                4282.7  \n",
      "50                               1659.33  \n",
      "51                               5389.75  \n",
      "52                                 68.72  \n",
      "53                                   760  \n",
      "54                              12415.61  \n",
      "55                               87327.6  \n",
      "56                                   NaN  \n"
     ]
    }
   ],
   "source": [
    "ITC_df = pd.read_excel('ITC.xlsx', usecols=\"A:B\") # for printing only the first two columns\n",
    "\n",
    "Balance_Sheet = ITC_df.head(57)\n",
    "print(Balance_Sheet)"
   ]
  },
  {
   "cell_type": "code",
   "execution_count": 15,
   "id": "210bc1dc-ab2a-46e2-b3fb-3ed8a7557c78",
   "metadata": {},
   "outputs": [
    {
     "name": "stdout",
     "output_type": "stream",
     "text": [
      "Current Assets: 36070.67\n"
     ]
    }
   ],
   "source": [
    "import pandas as pd\n",
    "current_assets_row = Balance_Sheet[Balance_Sheet.iloc[:, 0].str.contains(\"Total Current assets\", na=False, case=False)]\n",
    "if not current_assets_row.empty:\n",
    "    current_assets_I = float(current_assets_row.iloc[0, 1])  # Convert to float for numerical operations\n",
    "    print(\"Current Assets:\", current_assets_I)\n",
    "else:\n",
    "    print(\"Total Current Assets not found.\")\n"
   ]
  },
  {
   "cell_type": "code",
   "execution_count": 17,
   "id": "34542bb0-8178-4a0f-a3d1-5770807c210e",
   "metadata": {},
   "outputs": [
    {
     "name": "stdout",
     "output_type": "stream",
     "text": [
      "Current Liabilities: 12415.61\n"
     ]
    }
   ],
   "source": [
    "\n",
    "current_liabilities_row = Balance_Sheet[Balance_Sheet.iloc[:, 0].str.contains(\"Total Current liabilities\", na=False, case=False)]\n",
    "\n",
    "if not current_liabilities_row.empty:\n",
    "    current_liabilities_I = float(current_liabilities_row.iloc[0, 1])  # Convert to float for numerical operations\n",
    "    print(\"Current Liabilities:\", current_liabilities_I)\n",
    "else:\n",
    "    print(\"Total Current liabilties not found.\")\n"
   ]
  },
  {
   "cell_type": "code",
   "execution_count": 19,
   "id": "1514affa-b490-48cc-8a5e-4a3eb2104508",
   "metadata": {},
   "outputs": [
    {
     "name": "stdout",
     "output_type": "stream",
     "text": [
      "2.905267642910819\n"
     ]
    }
   ],
   "source": [
    "while True:\n",
    "    try:\n",
    "        current_ratio = current_assets_I/current_liabilities_I\n",
    "        print(current_ratio)\n",
    "        break\n",
    "    except ValueError as e:\n",
    "        print(f\"{e}\")"
   ]
  },
  {
   "cell_type": "code",
   "execution_count": null,
   "id": "9ae63a3e-fd84-427f-b619-8c387a4caa25",
   "metadata": {},
   "outputs": [],
   "source": []
  },
  {
   "cell_type": "code",
   "execution_count": 21,
   "id": "17b2f236-5d75-4a31-b1ea-4c02a2d220f8",
   "metadata": {},
   "outputs": [
    {
     "name": "stdout",
     "output_type": "stream",
     "text": [
      "Current Assets: 36070.67\n",
      "Current Liabilities: 12415.61\n",
      "Current Ratio: 2.91\n",
      "Quick Ratio: 1.89\n",
      "Debt-to-Equity Ratio: 0.0\n",
      "Debt-to-Assets Ratio: 0.0\n"
     ]
    }
   ],
   "source": [
    "import pandas as pd\n",
    "\n",
    "def extract_financial_ratios(balance_sheet):\n",
    "    \"\"\"Extracts key financial metrics and calculates important ratios.\"\"\"\n",
    "    try:\n",
    "        current_assets_row = balance_sheet[balance_sheet.iloc[:, 0].str.contains(\"Total Current assets\", na=False, case=False)]\n",
    "        current_assets = float(current_assets_row.iloc[0, 1]) if not current_assets_row.empty else None\n",
    "        inventory_row = balance_sheet[balance_sheet.iloc[:, 0].str.contains(\"Inventories\", na=False, case=False)]\n",
    "        inventories = float(inventory_row.iloc[0, 1]) if not inventory_row.empty else 0  \n",
    "        current_liabilities_row = balance_sheet[balance_sheet.iloc[:, 0].str.contains(\"Total Current liabilities\", na=False, case=False)]\n",
    "        current_liabilities = float(current_liabilities_row.iloc[0, 1]) if not current_liabilities_row.empty else None\n",
    "        borrowings_rows = balance_sheet[balance_sheet.iloc[:, 0].str.contains(\"Borrowings\", na=False, case=False)]\n",
    "        total_debt = borrowings_rows.iloc[:, 1].astype(float).sum() if not borrowings_rows.empty else None\n",
    "        equity_row = balance_sheet[balance_sheet.iloc[:, 0].str.contains(\"Total Equity\", na=False, case=False)]\n",
    "        total_equity = float(equity_row.iloc[0, 1]) if not equity_row.empty else None\n",
    "        assets_row = balance_sheet[balance_sheet.iloc[:, 0].str.contains(\"TOTAL ASSETS\", na=False, case=False)]\n",
    "        total_assets = float(assets_row.iloc[0, 1]) if not assets_row.empty else None\n",
    "        current_ratio = round(current_assets / current_liabilities, 2) if current_assets and current_liabilities else None\n",
    "        quick_ratio = round((current_assets - inventories) / current_liabilities, 2) if current_assets and current_liabilities else None\n",
    "        debt_to_equity = round(total_debt / total_equity, 2) if total_debt and total_equity else None\n",
    "        debt_to_assets = round(total_debt / total_assets, 2) if total_debt and total_assets else None\n",
    "        return {\n",
    "            \"Current Assets\": current_assets,\n",
    "            \"Current Liabilities\": current_liabilities,\n",
    "            \"Current Ratio\": current_ratio,\n",
    "            \"Quick Ratio\": quick_ratio,\n",
    "            \"Debt-to-Equity Ratio\": debt_to_equity,\n",
    "            \"Debt-to-Assets Ratio\": debt_to_assets\n",
    "        }\n",
    "\n",
    "    except Exception as error:\n",
    "        print(f\"Error occurred: {error}\")\n",
    "        return None\n",
    "ratios = extract_financial_ratios(Balance_Sheet)\n",
    "if ratios:\n",
    "    for key, value in ratios.items():\n",
    "        print(f\"{key}: {value}\")\n"
   ]
  },
  {
   "cell_type": "code",
   "execution_count": 1,
   "id": "1b99c1a3-d06a-454b-a257-3ba2e7ca8e1f",
   "metadata": {},
   "outputs": [
    {
     "name": "stdout",
     "output_type": "stream",
     "text": [
      "{'Total Assets': 87327.6, 'Total Equity': 72233.3, 'Total Debt': 2.0200000000000005}\n"
     ]
    }
   ],
   "source": [
    "import pandas as pd\n",
    "\n",
    "def extract_financial_metrics(file_path):\n",
    "\n",
    "    df = pd.read_excel(file_path, usecols=\"A:B\", header=None)\n",
    "\n",
    "    df.columns = ['Particulars', 'Amount']\n",
    "    df.dropna(inplace=True)\n",
    "    df['Amount'] = pd.to_numeric(df['Amount'], errors='coerce')\n",
    "    total_assets = df.loc[df['Particulars'].str.contains('TOTAL ASSETS', case=False, na=False), 'Amount'].values\n",
    "    total_equity = df.loc[df['Particulars'].str.contains('Total Equity', case=False, na=False), 'Amount'].values\n",
    "    total_borrowings = df.loc[df['Particulars'].str.contains('Borrowings', case=False, na=False), 'Amount'].sum()\n",
    "    total_assets = total_assets[0] if total_assets.size > 0 else None\n",
    "    total_equity = total_equity[0] if total_equity.size > 0 else None\n",
    "    total_debt = total_borrowings if total_borrowings > 0 else None\n",
    "    \n",
    "    return {\n",
    "        'Total Assets': total_assets,\n",
    "        'Total Equity': total_equity,\n",
    "        'Total Debt': total_debt\n",
    "    }\n",
    "\n",
    "file_path = 'ITC.xlsx'\n",
    "financials = extract_financial_metrics(file_path)\n",
    "print(financials)\n"
   ]
  },
  {
   "cell_type": "code",
   "execution_count": 1,
   "id": "1073bfab-c311-45d4-9c36-a0b5bad728b1",
   "metadata": {},
   "outputs": [
    {
     "name": "stdout",
     "output_type": "stream",
     "text": [
      "{'Total Assets': 87327.6, 'Total Equity': 72233.3, 'Total Debt': 2.0200000000000005, 'Debt to Equity Ratio': 2.796494137745334e-05, 'Debt to Asset Ratio': 2.3131289535038183e-05}\n"
     ]
    }
   ],
   "source": [
    "import pandas as pd\n",
    "\n",
    "def extract_financial_metrics(file_path):\n",
    "    df = pd.read_excel(file_path, usecols=\"A:B\", header=None)\n",
    "    df.columns = ['Particulars', 'Amount']\n",
    "    df.dropna(inplace=True)\n",
    "    df['Amount'] = pd.to_numeric(df['Amount'], errors='coerce')\n",
    "    total_assets = df.loc[df['Particulars'].str.contains('TOTAL ASSETS', case=False, na=False), 'Amount'].values\n",
    "    total_equity = df.loc[df['Particulars'].str.contains('Total Equity', case=False, na=False), 'Amount'].values\n",
    "    total_borrowings = df.loc[df['Particulars'].str.contains('Borrowings', case=False, na=False), 'Amount'].sum()\n",
    "    total_assets = total_assets[0] if total_assets.size > 0 else None\n",
    "    total_equity = total_equity[0] if total_equity.size > 0 else None\n",
    "    total_debt = total_borrowings if total_borrowings > 0 else None\n",
    "    debt_to_equity = (total_debt / total_equity) if total_debt and total_equity else None\n",
    "    debt_to_asset = (total_debt / total_assets) if total_debt and total_assets else None\n",
    "    \n",
    "    return {\n",
    "        'Total Assets': total_assets,\n",
    "        'Total Equity': total_equity,\n",
    "        'Total Debt': total_debt,\n",
    "        'Debt to Equity Ratio': debt_to_equity,\n",
    "        'Debt to Asset Ratio': debt_to_asset\n",
    "    }\n",
    "file_path = 'ITC.xlsx' \n",
    "financials = extract_financial_metrics(file_path)\n",
    "print(financials)\n"
   ]
  },
  {
   "cell_type": "code",
   "execution_count": null,
   "id": "e0658f30-4e5d-464b-b858-e1bacef2bd13",
   "metadata": {},
   "outputs": [],
   "source": []
  }
 ],
 "metadata": {
  "kernelspec": {
   "display_name": "Python 3 (ipykernel)",
   "language": "python",
   "name": "python3"
  },
  "language_info": {
   "codemirror_mode": {
    "name": "ipython",
    "version": 3
   },
   "file_extension": ".py",
   "mimetype": "text/x-python",
   "name": "python",
   "nbconvert_exporter": "python",
   "pygments_lexer": "ipython3",
   "version": "3.12.4"
  }
 },
 "nbformat": 4,
 "nbformat_minor": 5
}
